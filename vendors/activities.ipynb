{
  "cells": [
    {
      "cell_type": "markdown",
      "metadata": {},
      "source": [
        "## Setup\n",
        "\n",
        "Requires a HubSpot Private app and an API access token with the following scopes:\n",
        "\n",
        "- `crm.schemas.custom.read`\n",
        "- `crm.objects.custom.read`\n",
        "- `crm.objects.custom.write`\n",
        "- `crm.objects.companies.read`\n",
        "- `crm.schemas.contacts.read`\n",
        "- `crm.objects.contacts.read`\n",
        "- `crm.schemas.companies.read`\n",
        "- `sales-email-read`"
      ]
    },
    {
      "cell_type": "code",
      "execution_count": null,
      "metadata": {},
      "outputs": [],
      "source": [
        "import os\n",
        "\n",
        "from hubspot import HubSpot\n",
        "import pandas as pd\n",
        "\n",
        "\n",
        "ACCESS_TOKEN = os.environ[\"HUBSPOT_ACCESS_TOKEN\"]\n",
        "ASSOCIATION_TYPES = [\"calls\", \"emails\", \"meetings\", \"notes\", \"tasks\"]\n",
        "\n",
        "hubspot = HubSpot(access_token=ACCESS_TOKEN)"
      ]
    },
    {
      "cell_type": "code",
      "execution_count": null,
      "metadata": {},
      "outputs": [],
      "source": [
        "def write_json_records(df: pd.DataFrame, file_path: str):\n",
        "    \"\"\"Helper writes the DataFrame into a JSON file.\"\"\"\n",
        "    df.to_json(f\"data/{file_path}\", orient=\"records\", indent=2)"
      ]
    },
    {
      "cell_type": "code",
      "execution_count": null,
      "metadata": {},
      "outputs": [],
      "source": [
        "# request company properties\n",
        "company_props = hubspot.crm.properties.core_api.get_all(object_type=\"companies\", archived=False)"
      ]
    },
    {
      "cell_type": "code",
      "execution_count": null,
      "metadata": {},
      "outputs": [],
      "source": [
        "# read company properties into DataFrame\n",
        "company_props_df = pd.json_normalize(company_props.to_dict(), \"results\")\n",
        "write_json_records(company_props_df, \"company_props.json\")"
      ]
    },
    {
      "cell_type": "code",
      "execution_count": null,
      "metadata": {},
      "outputs": [],
      "source": [
        "# request companies data\n",
        "companies = hubspot.crm.companies.get_all(properties=[\"company_type\", \"domain\", \"name\"], associations=ASSOCIATION_TYPES)\n",
        "companies = [c.to_dict() for c in companies]"
      ]
    },
    {
      "cell_type": "code",
      "execution_count": null,
      "metadata": {},
      "outputs": [],
      "source": [
        "# read companies data into DataFrame\n",
        "companies_df = pd.json_normalize(companies)\n",
        "companies_df[\"properties.domain\"] = companies_df[\"properties.domain\"].astype(\"category\")\n",
        "write_json_records(companies_df, \"companies.json\")"
      ]
    },
    {
      "cell_type": "code",
      "execution_count": null,
      "metadata": {},
      "outputs": [],
      "source": [
        "# look at the unique company types defined\n",
        "companies_df[\"properties.company_type\"].unique().tofile(\"data/company_types.txt\", sep=os.linesep)"
      ]
    },
    {
      "cell_type": "code",
      "execution_count": null,
      "metadata": {},
      "outputs": [],
      "source": [
        "# filter vendor companies into new DataFrame\n",
        "vendor_companies_df = companies_df[companies_df[\"properties.company_type\"] == \"Vendor\"]\n",
        "write_json_records(vendor_companies_df, \"companies_vendors.json\")"
      ]
    },
    {
      "cell_type": "code",
      "execution_count": null,
      "metadata": {},
      "outputs": [],
      "source": [
        "# request vendor properties\n",
        "vendor_props = hubspot.crm.properties.core_api.get_all(object_type=\"vendors\", archived=False)"
      ]
    },
    {
      "cell_type": "code",
      "execution_count": null,
      "metadata": {},
      "outputs": [],
      "source": [
        "# read vendor properties into DataFrame\n",
        "vendor_props_df = pd.json_normalize(vendor_props.to_dict(), \"results\")\n",
        "write_json_records(vendor_props_df, \"vendor_props.json\")"
      ]
    },
    {
      "cell_type": "code",
      "execution_count": null,
      "metadata": {},
      "outputs": [],
      "source": [
        "# request vendor data\n",
        "vendors = hubspot.crm.objects.get_all(\"vendors\", properties=[\"domain\", \"vendor_name\"])\n",
        "vendors = [v.to_dict() for v in vendors]"
      ]
    },
    {
      "cell_type": "code",
      "execution_count": null,
      "metadata": {},
      "outputs": [],
      "source": [
        "# read vendor data into DataFrame\n",
        "vendors_df = pd.json_normalize(vendors)\n",
        "vendors_df[\"properties.domain\"] = vendors_df[\"properties.domain\"].astype(\"category\")\n",
        "write_json_records(vendors_df, \"vendors.json\")\n",
        "\n",
        "# filter any custom object vendors missing their domain property\n",
        "# these were used for testing the vendor object import\n",
        "vendors_df = vendors_df[~vendors_df[\"properties.domain\"].isna()]\n",
        "write_json_records(vendors_df, \"vendors_with_domains.json\")"
      ]
    },
    {
      "cell_type": "code",
      "execution_count": null,
      "metadata": {},
      "outputs": [],
      "source": [
        "# confirming associations exist for the vendor custom object\n",
        "vendor_associations_df = pd.DataFrame(columns=[\"name\", \"id\"])\n",
        "for association_type in ASSOCIATION_TYPES:\n",
        "    vendor_associations = hubspot.crm.associations.schema.types_api.get_all(\"vendors\", association_type)\n",
        "    df = pd.json_normalize(vendor_associations.to_dict(), \"results\")\n",
        "    vendor_associations_df = vendor_associations_df.merge(df, how=\"outer\")\n",
        "write_json_records(vendor_associations_df, \"vendor_associations.json\")"
      ]
    },
    {
      "cell_type": "code",
      "execution_count": null,
      "metadata": {},
      "outputs": [],
      "source": [
        "# confirming reverse associations exist for the vendor custom object\n",
        "reverse_vendor_associations_df = pd.DataFrame(columns=[\"name\", \"id\"])\n",
        "for association_type in ASSOCIATION_TYPES:\n",
        "    reverse_vendor_associations = hubspot.crm.associations.schema.types_api.get_all(association_type, \"vendors\")\n",
        "    df = pd.json_normalize(reverse_vendor_associations.to_dict(), \"results\")\n",
        "    reverse_vendor_associations_df = reverse_vendor_associations_df.merge(df, how=\"outer\")\n",
        "write_json_records(reverse_vendor_associations_df, f\"vendor_associations_reverse.json\")"
      ]
    }
  ],
  "metadata": {
    "kernelspec": {
      "display_name": "Python 3",
      "language": "python",
      "name": "python3"
    },
    "language_info": {
      "codemirror_mode": {
        "name": "ipython",
        "version": 3
      },
      "file_extension": ".py",
      "mimetype": "text/x-python",
      "name": "python",
      "nbconvert_exporter": "python",
      "pygments_lexer": "ipython3",
      "version": "3.11.6"
    }
  },
  "nbformat": 4,
  "nbformat_minor": 2
}
