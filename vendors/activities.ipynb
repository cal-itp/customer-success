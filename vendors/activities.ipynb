{
  "cells": [
    {
      "cell_type": "code",
      "execution_count": null,
      "metadata": {},
      "outputs": [],
      "source": [
        "import os\n",
        "\n",
        "from hubspot import HubSpot\n",
        "import pandas as pd\n",
        "\n",
        "\n",
        "ACCESS_TOKEN = os.environ[\"HUBSPOT_ACCESS_TOKEN\"]\n",
        "\n",
        "hubspot = HubSpot(access_token=ACCESS_TOKEN)"
      ]
    },
    {
      "cell_type": "code",
      "execution_count": null,
      "metadata": {},
      "outputs": [],
      "source": [
        "company_props = hubspot.crm.properties.core_api.get_all(object_type=\"companies\", archived=False)"
      ]
    },
    {
      "cell_type": "code",
      "execution_count": null,
      "metadata": {},
      "outputs": [],
      "source": [
        "# read results into DataFrame\n",
        "company_props_df = pd.json_normalize(company_props.to_dict(), \"results\")\n",
        "\n",
        "# assign dtypes for columns used later\n",
        "dtypes = {\n",
        "    \"hubspot_defined\": \"bool\",\n",
        "}\n",
        "for field, dtype in dtypes.items():\n",
        "    company_props_df[field] = company_props_df[field].astype(dtype)"
      ]
    },
    {
      "cell_type": "code",
      "execution_count": null,
      "metadata": {},
      "outputs": [],
      "source": [
        "hubspot_props = company_props_df[company_props_df[\"hubspot_defined\"]]\n",
        "hubspot_props.to_json(\"data/company_props_hubspot.json\", orient=\"records\", indent=2)"
      ]
    },
    {
      "cell_type": "code",
      "execution_count": null,
      "metadata": {},
      "outputs": [],
      "source": [
        "custom_props = company_props_df[~company_props_df[\"hubspot_defined\"]]\n",
        "custom_props.to_json(\"data/company_props_custom.json\", orient=\"records\", indent=2)"
      ]
    },
    {
      "cell_type": "code",
      "execution_count": null,
      "metadata": {},
      "outputs": [],
      "source": [
        "companies = hubspot.crm.companies.get_all(properties=[\"company_type\", \"domain\", \"name\"], associations=[\"calls\", \"emails\", \"meetings\", \"notes\", \"tasks\"])\n",
        "companies = [c.to_dict() for c in companies]"
      ]
    },
    {
      "cell_type": "code",
      "execution_count": null,
      "metadata": {},
      "outputs": [],
      "source": [
        "companies_df = pd.json_normalize(companies)\n",
        "companies_df.to_json(\"data/companies.json\", orient=\"records\", indent=2)"
      ]
    },
    {
      "cell_type": "code",
      "execution_count": null,
      "metadata": {},
      "outputs": [],
      "source": [
        "# look at the unique company types defined\n",
        "companies_df[\"properties.company_type\"].unique().tofile(\"data/company_types.txt\", sep=os.linesep)"
      ]
    },
    {
      "cell_type": "code",
      "execution_count": null,
      "metadata": {},
      "outputs": [],
      "source": [
        "vendor_companies_df = companies_df[companies_df[\"properties.company_type\"] == \"Vendor\"]\n",
        "vendor_companies_df.to_json(\"data/vendors.json\", orient=\"records\", indent=2)"
      ]
    }
  ],
  "metadata": {
    "kernelspec": {
      "display_name": "Python 3",
      "language": "python",
      "name": "python3"
    },
    "language_info": {
      "codemirror_mode": {
        "name": "ipython",
        "version": 3
      },
      "file_extension": ".py",
      "mimetype": "text/x-python",
      "name": "python",
      "nbconvert_exporter": "python",
      "pygments_lexer": "ipython3",
      "version": "3.11.6"
    }
  },
  "nbformat": 4,
  "nbformat_minor": 2
}
