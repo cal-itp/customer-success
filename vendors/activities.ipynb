{
  "cells": [
    {
      "cell_type": "markdown",
      "metadata": {},
      "source": [
        "## Setup\n",
        "\n",
        "Requires a HubSpot Private app and an API access token with the following scopes:\n",
        "\n",
        "- `crm.schemas.custom.read`\n",
        "- `crm.objects.custom.read`\n",
        "- `crm.objects.custom.write`\n",
        "- `crm.objects.companies.read`\n",
        "- `crm.schemas.contacts.read`\n",
        "- `crm.objects.contacts.read`\n",
        "- `crm.schemas.companies.read`\n",
        "- `sales-email-read`"
      ]
    },
    {
      "cell_type": "code",
      "execution_count": null,
      "metadata": {},
      "outputs": [],
      "source": [
        "import os\n",
        "\n",
        "from hubspot import HubSpot\n",
        "import pandas as pd\n",
        "\n",
        "\n",
        "ACCESS_TOKEN = os.environ[\"HUBSPOT_ACCESS_TOKEN\"]\n",
        "ASSOCIATION_TYPES = [\"calls\", \"emails\", \"meetings\", \"notes\", \"tasks\"]\n",
        "\n",
        "hubspot = HubSpot(access_token=ACCESS_TOKEN)"
      ]
    },
    {
      "cell_type": "code",
      "execution_count": null,
      "metadata": {},
      "outputs": [],
      "source": [
        "def write_json_records(df: pd.DataFrame, file_path: str):\n",
        "    \"\"\"Helper writes the DataFrame into a JSON file.\"\"\"\n",
        "    df.to_json(f\"data/{file_path}\", orient=\"records\", indent=2)"
      ]
    },
    {
      "cell_type": "code",
      "execution_count": null,
      "metadata": {},
      "outputs": [],
      "source": [
        "# request company properties\n",
        "company_props = hubspot.crm.properties.core_api.get_all(object_type=\"companies\", archived=False)"
      ]
    },
    {
      "cell_type": "code",
      "execution_count": null,
      "metadata": {},
      "outputs": [],
      "source": [
        "# read company properties into DataFrame\n",
        "company_props_df = pd.json_normalize(company_props.to_dict(), \"results\")\n",
        "write_json_records(company_props_df, \"company_props.json\")"
      ]
    },
    {
      "cell_type": "code",
      "execution_count": null,
      "metadata": {},
      "outputs": [],
      "source": [
        "# request companies data\n",
        "companies = hubspot.crm.companies.get_all(properties=[\"company_type\", \"domain\", \"name\"], associations=ASSOCIATION_TYPES)\n",
        "companies = [c.to_dict() for c in companies]"
      ]
    },
    {
      "cell_type": "code",
      "execution_count": null,
      "metadata": {},
      "outputs": [],
      "source": [
        "# read companies data into DataFrame\n",
        "companies_df = pd.json_normalize(companies)\n",
        "companies_df[\"properties.domain\"] = companies_df[\"properties.domain\"].astype(\"category\")\n",
        "write_json_records(companies_df, \"companies.json\")"
      ]
    },
    {
      "cell_type": "code",
      "execution_count": null,
      "metadata": {},
      "outputs": [],
      "source": [
        "# look at the unique company types defined\n",
        "companies_df[\"properties.company_type\"].unique().tofile(\"data/company_types.txt\", sep=os.linesep)"
      ]
    },
    {
      "cell_type": "code",
      "execution_count": null,
      "metadata": {},
      "outputs": [],
      "source": [
        "# filter vendor companies into new DataFrame\n",
        "vendor_companies_df = companies_df[companies_df[\"properties.company_type\"] == \"Vendor\"]\n",
        "write_json_records(vendor_companies_df, \"companies_vendors.json\")"
      ]
    },
    {
      "cell_type": "code",
      "execution_count": null,
      "metadata": {},
      "outputs": [],
      "source": [
        "# request vendor properties\n",
        "vendor_props = hubspot.crm.properties.core_api.get_all(object_type=\"vendors\", archived=False)"
      ]
    },
    {
      "cell_type": "code",
      "execution_count": null,
      "metadata": {},
      "outputs": [],
      "source": [
        "# read vendor properties into DataFrame\n",
        "vendor_props_df = pd.json_normalize(vendor_props.to_dict(), \"results\")\n",
        "write_json_records(vendor_props_df, \"vendor_props.json\")"
      ]
    },
    {
      "cell_type": "code",
      "execution_count": null,
      "metadata": {},
      "outputs": [],
      "source": [
        "# request vendor data\n",
        "vendors = hubspot.crm.objects.get_all(\"vendors\", properties=[\"domain\", \"vendor_name\"])\n",
        "vendors = [v.to_dict() for v in vendors]"
      ]
    },
    {
      "cell_type": "code",
      "execution_count": null,
      "metadata": {},
      "outputs": [],
      "source": [
        "# read vendor data into DataFrame\n",
        "vendors_df = pd.json_normalize(vendors)\n",
        "vendors_df[\"properties.domain\"] = vendors_df[\"properties.domain\"].astype(\"category\")\n",
        "write_json_records(vendors_df, \"vendors.json\")\n",
        "\n",
        "# filter any custom object vendors missing their domain property\n",
        "# these were used for testing the vendor object import\n",
        "vendors_df = vendors_df[~vendors_df[\"properties.domain\"].isna()]\n",
        "write_json_records(vendors_df, \"vendors_with_domains.json\")"
      ]
    },
    {
      "cell_type": "code",
      "execution_count": null,
      "metadata": {},
      "outputs": [],
      "source": [
        "# confirming associations exist for the vendor custom object\n",
        "vendor_associations_df = pd.DataFrame(columns=[\"name\", \"id\"])\n",
        "for association_type in ASSOCIATION_TYPES:\n",
        "    vendor_associations = hubspot.crm.associations.schema.types_api.get_all(\"vendors\", association_type)\n",
        "    df = pd.json_normalize(vendor_associations.to_dict(), \"results\")\n",
        "    vendor_associations_df = vendor_associations_df.merge(df, how=\"outer\")\n",
        "write_json_records(vendor_associations_df, \"vendor_associations.json\")"
      ]
    },
    {
      "cell_type": "code",
      "execution_count": null,
      "metadata": {},
      "outputs": [],
      "source": [
        "# confirming reverse associations exist for the vendor custom object\n",
        "reverse_vendor_associations_df = pd.DataFrame(columns=[\"name\", \"id\"])\n",
        "for association_type in ASSOCIATION_TYPES:\n",
        "    reverse_vendor_associations = hubspot.crm.associations.schema.types_api.get_all(association_type, \"vendors\")\n",
        "    df = pd.json_normalize(reverse_vendor_associations.to_dict(), \"results\")\n",
        "    reverse_vendor_associations_df = reverse_vendor_associations_df.merge(df, how=\"outer\")\n",
        "write_json_records(reverse_vendor_associations_df, f\"vendor_associations_reverse.json\")"
      ]
    },
    {
      "cell_type": "code",
      "execution_count": null,
      "metadata": {},
      "outputs": [],
      "source": [
        "# combine the company vendors and custom object vendors into a single DataFrame with all columns\n",
        "# using an LEFT JOIN on domain\n",
        "# keeps records that have at least company vendor details\n",
        "joined_vendors_df_domain = vendor_companies_df.merge(vendors_df, on=\"properties.domain\", how=\"left\", suffixes=(\"_company\", \"_custom\"))\n",
        "\n",
        "# filter mismatched companies for those with any activities\n",
        "missing_custom_with_activity_criteria_domain = (\n",
        "    joined_vendors_df_domain[\"id_custom\"].isna() &\n",
        "    any([joined_vendors_df_domain[f\"associations.{a}.results\"].count() > 0 for a in ASSOCIATION_TYPES])\n",
        ")\n",
        "missing_custom_with_activity_domain = joined_vendors_df_domain[missing_custom_with_activity_criteria_domain]\n",
        "# sort by name\n",
        "missing_custom_with_activity_domain = missing_custom_with_activity_domain.sort_values(\"properties.name\")\n",
        "# rename joined columns\n",
        "renames_domain = {\"id_company\": \"id\", \"properties.hs_object_id_company\": \"properties.hs_object_id\"}\n",
        "renamed_missing_domain = missing_custom_with_activity_domain.rename(columns=renames_domain)\n",
        "# select just the columns for later joining\n",
        "select_domain = list(renames_domain.values()) + [\"properties.company_type\", \"properties.domain\", \"properties.name\"]\n",
        "missing_output_domain = renamed_missing_domain[select_domain]\n",
        "\n",
        "# combine the company vendors and custom object vendors into a single DataFrame with all columns\n",
        "# using an LEFT JOIN on name\n",
        "# keeps records that have at least company vendor details\n",
        "joined_vendors_df_name = vendor_companies_df.merge(\n",
        "    vendors_df, left_on=\"properties.name\", right_on=\"properties.vendor_name\", how=\"left\", suffixes=(\"_company\", \"_custom\")\n",
        ")\n",
        "\n",
        "# filter mismatched companies for those with any activities\n",
        "missing_custom_with_activity_criteria_name = (\n",
        "    joined_vendors_df_name[\"id_custom\"].isna() &\n",
        "    any([joined_vendors_df_name[f\"associations.{a}.results\"].count() > 0 for a in ASSOCIATION_TYPES])\n",
        ")\n",
        "missing_custom_with_activity_name = joined_vendors_df_name[missing_custom_with_activity_criteria_name]\n",
        "# sort by name\n",
        "missing_custom_with_activity_name = missing_custom_with_activity_name.sort_values(\"properties.name\")\n",
        "# rename joined columns\n",
        "renames_name = {\"id_company\": \"id\", \"properties.hs_object_id_company\": \"properties.hs_object_id\", \"properties.domain_company\": \"properties.domain\"}\n",
        "renamed_missing_name = missing_custom_with_activity_name.rename(columns=renames_name)\n",
        "# select just the columns for later joining\n",
        "select_name = list(renames_name.values()) + [\"properties.company_type\", \"properties.name\"]\n",
        "missing_name = renamed_missing_name[select_name]\n",
        "\n",
        "# merge the two DataFrames together\n",
        "# these are all the company vendors with activities that didn't have a matching custom vendor object\n",
        "# either on domain or name\n",
        "merged_missing = missing_output_domain.merge(missing_name, how=\"outer\", on=\"properties.domain\")\n",
        "# sort the columns\n",
        "sorted_cols = sorted(merged_missing.columns.to_list())\n",
        "merged_missing = merged_missing.reindex(columns=sorted_cols)\n",
        "# backfill missing values from the nearest column\n",
        "# since the columns are sorted, when e.g. column_x is missing, it will be filled from column_y\n",
        "merged_missing = merged_missing.replace(\"\", pd.NA).bfill(axis=1)\n",
        "# rename joined columns now that there is a value for each\n",
        "renames = {\"properties.name_x\": \"properties.name\", \"properties.hs_object_id_x\": \"properties.hs_object_id\", \"id_x\": \"id\", \"properties.company_type_x\": \"properties.company_type\"}\n",
        "merged_missing = merged_missing.rename(columns=renames)\n",
        "# select a limited list of columns for output\n",
        "select = [\"properties.domain\"] + list(renames.values())\n",
        "selected_output = merged_missing[select]\n",
        "# filter companies already accounted for with domain mismatch\n",
        "selected_output = selected_output[~selected_output[\"properties.name\"].isin([\"Hayden AI\", \"Kontron\", \"RideCo\", \"Peak Transit\"])]\n",
        "write_json_records(selected_output, \"vendors_join_left_merged_missing_custom_with_activity.json\")\n",
        "# adds a separator row for CSV output into markdown table format\n",
        "separator_row = pd.DataFrame([map(lambda x: \"-----\", select)], columns=select)\n",
        "csv_output = pd.concat([separator_row, selected_output], ignore_index=True)\n",
        "csv_output.replace(\"|\", \"\\|\", inplace=True)\n",
        "csv_output.to_csv(\"data/vendors_join_left_merged_missing_custom_with_activity.csv\", index=False, sep=\"|\")"
      ]
    }
  ],
  "metadata": {
    "kernelspec": {
      "display_name": "Python 3",
      "language": "python",
      "name": "python3"
    },
    "language_info": {
      "codemirror_mode": {
        "name": "ipython",
        "version": 3
      },
      "file_extension": ".py",
      "mimetype": "text/x-python",
      "name": "python",
      "nbconvert_exporter": "python",
      "pygments_lexer": "ipython3",
      "version": "3.11.6"
    }
  },
  "nbformat": 4,
  "nbformat_minor": 2
}
