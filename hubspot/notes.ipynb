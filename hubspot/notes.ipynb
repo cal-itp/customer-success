{
  "cells": [
    {
      "cell_type": "markdown",
      "metadata": {},
      "source": [
        "## Setup\n",
        "\n",
        "Requires a HubSpot Private app with an API access token with the following scopes:\n",
        "\n",
        "- `crm.objects.custom.read`\n",
        "- `crm.objects.companies.read`\n",
        "- `crm.objects.contacts.read`\n",
        "- `crm.objects.users.read`\n",
        "\n",
        "The token should be stored in an environment variable called `HUBSPOT_ACCESS_TOKEN`.\n",
        "\n",
        "You can copy the sample environment file to get started; run the following command from the root of this repository:\n",
        "\n",
        "```bash\n",
        "cp .env.sample .env\n",
        "```\n",
        "\n",
        "Then open `.env` and fill in with your access token."
      ]
    },
    {
      "cell_type": "code",
      "execution_count": null,
      "metadata": {},
      "outputs": [],
      "source": [
        "import os\n",
        "from pathlib import Path\n",
        "\n",
        "from hubspot import HubSpot\n",
        "\n",
        "from data.utils import hubspot_to_df, write_json_records\n",
        "\n",
        "\n",
        "ACCESS_TOKEN = os.environ[\"HUBSPOT_ACCESS_TOKEN\"]\n",
        "LAST_NOTE_PATH = Path(\"last_note_id\")\n",
        "PAGE_SIZE = int(os.environ[\"HUBSPOT_PAGE_SIZE\"])\n",
        "\n",
        "PROPERTIES = [\"hs_created_by\", \"hs_createdate\", \"hs_note_body\"]\n",
        "ASSOCIATION_TYPES = [\"companies\", \"vendors\"]\n",
        "ASSOCIATION_COLUMNS = [f\"associations.{assoc}.results\" for assoc in ASSOCIATION_TYPES]\n",
        "ASSOCIATION_COLUMNS_COMPANIES = ASSOCIATION_COLUMNS[0]\n",
        "ASSOCIATION_COLUMNS_VENDORS = ASSOCIATION_COLUMNS[1]\n",
        "\n",
        "hubspot = HubSpot(access_token=ACCESS_TOKEN)\n",
        "hubspot_notes_api = hubspot.crm.objects.notes.basic_api\n",
        "hubspot_objects_api = hubspot.crm.objects.basic_api\n",
        "hubspot_properties_api = hubspot.crm.properties.core_api"
      ]
    },
    {
      "cell_type": "code",
      "execution_count": null,
      "metadata": {},
      "outputs": [],
      "source": [
        "def get_last_note_id():\n",
        "    try:\n",
        "        return LAST_NOTE_PATH.read_text(encoding=\"utf-8\").strip()\n",
        "    except FileNotFoundError:\n",
        "        return None\n",
        "\n",
        "\n",
        "def update_last_note_id(last_note_id):\n",
        "    LAST_NOTE_PATH.write_text(last_note_id, encoding=\"utf-8\")"
      ]
    },
    {
      "cell_type": "code",
      "execution_count": null,
      "metadata": {},
      "outputs": [],
      "source": [
        "props_response = hubspot_properties_api.get_all(\"notes\", archived=False)\n",
        "props_df = hubspot_to_df(props_response)\n",
        "write_json_records(props_df, \"notes_props.json\")\n",
        "\n",
        "props_response = hubspot_properties_api.get_all(\"users\", archived=False)\n",
        "props_df = hubspot_to_df(props_response)\n",
        "write_json_records(props_df, \"users_props.json\")"
      ]
    },
    {
      "cell_type": "code",
      "execution_count": null,
      "metadata": {},
      "outputs": [],
      "source": [
        "def get_all_pages(api, **kwargs):\n",
        "    kwargs[\"limit\"] = PAGE_SIZE\n",
        "    pages = []\n",
        "\n",
        "    response = api.get_page(**kwargs)\n",
        "    pages.append(response)\n",
        "\n",
        "    while response.paging:\n",
        "        kwargs[\"after\"] = response.paging.next.after\n",
        "        response = api.get_page(**kwargs)\n",
        "        pages.append(response)\n",
        "\n",
        "    return pages"
      ]
    },
    {
      "cell_type": "code",
      "execution_count": null,
      "metadata": {},
      "outputs": [],
      "source": [
        "user_props = [\"hs_given_name\", \"hs_family_name\"]\n",
        "users_responses = get_all_pages(hubspot_objects_api, object_type=\"users\", properties=user_props)\n",
        "users = hubspot_to_df(users_responses)"
      ]
    },
    {
      "cell_type": "code",
      "execution_count": null,
      "metadata": {},
      "outputs": [],
      "source": [
        "users.info()"
      ]
    },
    {
      "cell_type": "code",
      "execution_count": null,
      "metadata": {},
      "outputs": [],
      "source": [
        "LAST_NOTE_PATH.unlink(missing_ok=True)"
      ]
    },
    {
      "cell_type": "code",
      "execution_count": null,
      "metadata": {},
      "outputs": [],
      "source": [
        "last_note_id = get_last_note_id()\n",
        "\n",
        "notes_responses = get_all_pages(\n",
        "    hubspot_notes_api,\n",
        "    after=last_note_id,\n",
        "    properties=PROPERTIES,\n",
        "    associations=ASSOCIATION_TYPES\n",
        ")\n",
        "\n",
        "update_last_note_id(notes_responses[-1].results[-1].id)\n",
        "\n",
        "notes = hubspot_to_df(notes_responses)"
      ]
    },
    {
      "cell_type": "code",
      "execution_count": null,
      "metadata": {},
      "outputs": [],
      "source": [
        "notes.info()"
      ]
    },
    {
      "cell_type": "code",
      "execution_count": null,
      "metadata": {},
      "outputs": [],
      "source": [
        "# rename vendor association column\n",
        "# weird name, maybe because it is a custom association type?\n",
        "notes[ASSOCIATION_COLUMNS_VENDORS] = notes[\"associations.p5519226_vendors.results\"]\n",
        "\n",
        "# select only the columns needed for later\n",
        "cols = {\n",
        "    \"created_at\": \"created_at\",\n",
        "    \"id\": \"id_note\",\n",
        "    \"properties.hs_created_by\": \"id_user\",\n",
        "    \"properties.hs_note_body\": \"body\",\n",
        "    ASSOCIATION_COLUMNS_COMPANIES: ASSOCIATION_COLUMNS_COMPANIES,\n",
        "    ASSOCIATION_COLUMNS_VENDORS: ASSOCIATION_COLUMNS_VENDORS\n",
        "}\n",
        "notes = notes[cols.keys()]\n",
        "# and rename some for simplicity\n",
        "notes = notes.rename(columns=cols)\n",
        "\n",
        "# drop notes without a body\n",
        "notes = notes.dropna(subset=[\"body\"])\n",
        "\n",
        "# drop notes without a creator\n",
        "notes = notes.dropna(subset=[\"id_user\"])\n",
        "\n",
        "# drop notes without any of the association types (e.g. all are NA)\n",
        "notes = notes.dropna(subset=ASSOCIATION_COLUMNS, how=\"all\")\n",
        "\n",
        "# expand list-like association columns into rows\n",
        "# there should be only max 1 of each association type per row\n",
        "# explode each column separately since they have different counts of NAs\n",
        "# the resulting DataFrame should have\n",
        "#    row count == count of rows with company association\n",
        "#               + count of rows with vendor association\n",
        "notes = (notes.explode(ASSOCIATION_COLUMNS_COMPANIES, ignore_index=True)\n",
        "              .explode(ASSOCIATION_COLUMNS_VENDORS, ignore_index=True))"
      ]
    },
    {
      "cell_type": "code",
      "execution_count": null,
      "metadata": {},
      "outputs": [],
      "source": [
        "notes.info()"
      ]
    }
  ],
  "metadata": {
    "kernelspec": {
      "display_name": "Python 3",
      "language": "python",
      "name": "python3"
    },
    "language_info": {
      "codemirror_mode": {
        "name": "ipython",
        "version": 3
      },
      "file_extension": ".py",
      "mimetype": "text/x-python",
      "name": "python",
      "nbconvert_exporter": "python",
      "pygments_lexer": "ipython3",
      "version": "3.11.9"
    }
  },
  "nbformat": 4,
  "nbformat_minor": 2
}
