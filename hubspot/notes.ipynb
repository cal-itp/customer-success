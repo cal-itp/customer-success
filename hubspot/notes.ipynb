{
 "cells": [
  {
   "cell_type": "markdown",
   "metadata": {},
   "source": [
    "## Setup\n",
    "\n",
    "Requires a HubSpot Private app with an API access token with the following scopes:\n",
    "\n",
    "- `crm.objects.custom.read`\n",
    "- `crm.objects.companies.read`\n",
    "- `crm.schemas.contacts.read`\n",
    "\n",
    "The token should be stored in an environment variable called `HUBSPOT_ACCESS_TOKEN`.\n",
    "\n",
    "You can copy the sample environment file to get started; run the following command from the root of this repository:\n",
    "\n",
    "```bash\n",
    "cp .env.sample .env\n",
    "```\n",
    "\n",
    "Then open `.env` and fill in with your access token."
   ]
  },
  {
   "cell_type": "code",
   "execution_count": null,
   "metadata": {},
   "outputs": [],
   "source": [
    "import os\n",
    "\n",
    "from hubspot import HubSpot\n",
    "import pandas as pd\n",
    "\n",
    "from data.utils import write_json_records\n",
    "\n",
    "\n",
    "ACCESS_TOKEN = os.environ[\"HUBSPOT_ACCESS_TOKEN\"]\n",
    "\n",
    "hubspot = HubSpot(access_token=ACCESS_TOKEN)"
   ]
  },
  {
   "cell_type": "code",
   "execution_count": null,
   "metadata": {},
   "outputs": [],
   "source": [
    "props_response = hubspot.crm.properties.core_api.get_all(\"notes\", archived=False)\n",
    "props_df = pd.json_normalize(props_response.to_dict(), \"results\")\n",
    "write_json_records(props_df, \"notes_props.json\")"
   ]
  },
  {
   "cell_type": "code",
   "execution_count": null,
   "metadata": {},
   "outputs": [],
   "source": [
    "notes_props = [\"hs_created_by\", \"hs_createdate\", \"hs_note_body\"]\n",
    "notes_assoc = [\"companies\", \"contacts\", \"vendors\"]\n",
    "\n",
    "response = hubspot.crm.objects.notes.basic_api.get_page(limit=10, properties=notes_props, associations=notes_assoc)\n",
    "\n",
    "notes = pd.json_normalize(response.to_dict(), \"results\")\n",
    "notes.info()"
   ]
  }
 ],
 "metadata": {
  "kernelspec": {
   "display_name": "Python 3",
   "language": "python",
   "name": "python3"
  },
  "language_info": {
   "codemirror_mode": {
    "name": "ipython",
    "version": 3
   },
   "file_extension": ".py",
   "mimetype": "text/x-python",
   "name": "python",
   "nbconvert_exporter": "python",
   "pygments_lexer": "ipython3",
   "version": "3.11.6"
  }
 },
 "nbformat": 4,
 "nbformat_minor": 2
}
