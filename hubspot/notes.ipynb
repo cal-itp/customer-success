{
  "cells": [
    {
      "cell_type": "markdown",
      "metadata": {},
      "source": [
        "## Setup\n",
        "\n",
        "Requires a HubSpot Private app with an API access token with the following scopes:\n",
        "\n",
        "- `crm.objects.custom.read`\n",
        "- `crm.objects.companies.read`\n",
        "- `crm.schemas.contacts.read`\n",
        "\n",
        "The token should be stored in an environment variable called `HUBSPOT_ACCESS_TOKEN`.\n",
        "\n",
        "You can copy the sample environment file to get started; run the following command from the root of this repository:\n",
        "\n",
        "```bash\n",
        "cp .env.sample .env\n",
        "```\n",
        "\n",
        "Then open `.env` and fill in with your access token."
      ]
    },
    {
      "cell_type": "code",
      "execution_count": null,
      "metadata": {},
      "outputs": [],
      "source": [
        "import os\n",
        "\n",
        "from hubspot import HubSpot\n",
        "\n",
        "from data.utils import hubspot_to_df, write_json_records\n",
        "\n",
        "\n",
        "ACCESS_TOKEN = os.environ[\"HUBSPOT_ACCESS_TOKEN\"]\n",
        "\n",
        "hubspot = HubSpot(access_token=ACCESS_TOKEN)"
      ]
    },
    {
      "cell_type": "code",
      "execution_count": null,
      "metadata": {},
      "outputs": [],
      "source": [
        "props_response = hubspot.crm.properties.core_api.get_all(\"notes\", archived=False)\n",
        "props_df = hubspot_to_df(props_response)\n",
        "write_json_records(props_df, \"notes_props.json\")"
      ]
    },
    {
      "cell_type": "code",
      "execution_count": null,
      "metadata": {},
      "outputs": [],
      "source": [
        "notes_props = [\"hs_created_by\", \"hs_createdate\", \"hs_note_body\"]\n",
        "notes_assoc = [\"companies\", \"contacts\", \"vendors\"]\n",
        "\n",
        "response = hubspot.crm.objects.notes.basic_api.get_page(limit=10, properties=notes_props, associations=notes_assoc)\n",
        "\n",
        "notes = hubspot_to_df(response)\n",
        "# drop notes without a body\n",
        "notes = notes.dropna(subset=[\"properties.hs_note_body\"])\n",
        "\n",
        "# drop notes without a creator\n",
        "notes = notes.dropna(subset=[\"properties.hs_created_by\"])\n",
        "\n",
        "# drop notes without any of the association types (e.g. all are NA)\n",
        "notes = notes.dropna(subset=[\"associations.contacts.results\", \"associations.companies.results\"], how=\"all\")"
      ]
    },
    {
      "cell_type": "code",
      "execution_count": null,
      "metadata": {},
      "outputs": [],
      "source": [
        "notes.info()"
      ]
    }
  ],
  "metadata": {
    "kernelspec": {
      "display_name": "Python 3",
      "language": "python",
      "name": "python3"
    },
    "language_info": {
      "codemirror_mode": {
        "name": "ipython",
        "version": 3
      },
      "file_extension": ".py",
      "mimetype": "text/x-python",
      "name": "python",
      "nbconvert_exporter": "python",
      "pygments_lexer": "ipython3",
      "version": "3.11.9"
    }
  },
  "nbformat": 4,
  "nbformat_minor": 2
}
